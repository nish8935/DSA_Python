{
 "cells": [
  {
   "cell_type": "code",
   "execution_count": 2,
   "id": "029d9bc9",
   "metadata": {},
   "outputs": [
    {
     "name": "stdout",
     "output_type": "stream",
     "text": [
      "[3, 5, 1, 4, 2, 6]\n",
      "[1, 2, 3, 4, 5, 6]\n"
     ]
    }
   ],
   "source": [
    "a1 = [3,5,1,4,2,6]\n",
    "print(a1)\n",
    "def insertion_sort(arr):\n",
    "    n = len(arr)\n",
    "    for i in range(1,n):\n",
    "        elem = arr[i]\n",
    "        for j in range(i-1,-1,-1):\n",
    "            if elem < arr[j]:\n",
    "                arr[j],arr[j+1] = arr[j+1],arr[j]\n",
    "            else:\n",
    "                break\n",
    "                \n",
    "insertion_sort(a1)\n",
    "print(a1)"
   ]
  }
 ],
 "metadata": {
  "kernelspec": {
   "display_name": "Python 3 (ipykernel)",
   "language": "python",
   "name": "python3"
  },
  "language_info": {
   "codemirror_mode": {
    "name": "ipython",
    "version": 3
   },
   "file_extension": ".py",
   "mimetype": "text/x-python",
   "name": "python",
   "nbconvert_exporter": "python",
   "pygments_lexer": "ipython3",
   "version": "3.10.9"
  }
 },
 "nbformat": 4,
 "nbformat_minor": 5
}
