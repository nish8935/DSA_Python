{
 "cells": [
  {
   "cell_type": "code",
   "execution_count": 6,
   "id": "3c645324",
   "metadata": {},
   "outputs": [
    {
     "name": "stdout",
     "output_type": "stream",
     "text": [
      "Original array:  64 25 12 22 11 Sorted array:  11 12 22 25 64 "
     ]
    }
   ],
   "source": [
    "def selection_sort(arr):\n",
    "    n = len(arr)\n",
    "    \n",
    "    for i in range(n-1):\n",
    "        min_idx = i\n",
    "        for j in range (i+1,n):\n",
    "            if arr[j] < arr[min_idx]:\n",
    "                min_idx = j\n",
    "        arr[i],arr[min_idx] = arr[min_idx],arr[i]\n",
    "                \n",
    "            \n",
    "def print_array(arr):\n",
    "    for val in arr:\n",
    "        print(val, end = \" \")\n",
    "        \n",
    "        \n",
    "if __name__ == \"__main__\":\n",
    "    arr = [64, 25, 12, 22, 11]\n",
    "    \n",
    "    print(\"Original array: \", end=\" \")\n",
    "    print_array(arr)\n",
    "    \n",
    "    selection_sort(arr)\n",
    "    \n",
    "    print(\"Sorted array: \", end=\" \")\n",
    "    print_array(arr)\n",
    "        \n",
    "        "
   ]
  }
 ],
 "metadata": {
  "kernelspec": {
   "display_name": "Python 3 (ipykernel)",
   "language": "python",
   "name": "python3"
  },
  "language_info": {
   "codemirror_mode": {
    "name": "ipython",
    "version": 3
   },
   "file_extension": ".py",
   "mimetype": "text/x-python",
   "name": "python",
   "nbconvert_exporter": "python",
   "pygments_lexer": "ipython3",
   "version": "3.10.9"
  }
 },
 "nbformat": 4,
 "nbformat_minor": 5
}
